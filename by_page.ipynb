{
 "cells": [
  {
   "cell_type": "code",
   "execution_count": 1,
   "id": "initial_id",
   "metadata": {
    "collapsed": true,
    "ExecuteTime": {
     "end_time": "2024-04-28T16:38:25.809082704Z",
     "start_time": "2024-04-28T16:38:23.601738251Z"
    }
   },
   "outputs": [
    {
     "name": "stderr",
     "output_type": "stream",
     "text": [
      "2024-04-28 18:38:24.137624: E external/local_xla/xla/stream_executor/cuda/cuda_dnn.cc:9261] Unable to register cuDNN factory: Attempting to register factory for plugin cuDNN when one has already been registered\n",
      "2024-04-28 18:38:24.137661: E external/local_xla/xla/stream_executor/cuda/cuda_fft.cc:607] Unable to register cuFFT factory: Attempting to register factory for plugin cuFFT when one has already been registered\n",
      "2024-04-28 18:38:24.138288: E external/local_xla/xla/stream_executor/cuda/cuda_blas.cc:1515] Unable to register cuBLAS factory: Attempting to register factory for plugin cuBLAS when one has already been registered\n",
      "2024-04-28 18:38:24.143853: I tensorflow/core/platform/cpu_feature_guard.cc:182] This TensorFlow binary is optimized to use available CPU instructions in performance-critical operations.\n",
      "To enable the following instructions: SSE4.1 SSE4.2 AVX AVX2 FMA, in other operations, rebuild TensorFlow with the appropriate compiler flags.\n"
     ]
    }
   ],
   "source": [
    "from libraries import *"
   ]
  },
  {
   "cell_type": "code",
   "outputs": [],
   "source": [
    "text = extract_text_from_page(pdf_path=\"book.pdf\", page_number=27)"
   ],
   "metadata": {
    "collapsed": false,
    "ExecuteTime": {
     "end_time": "2024-04-28T16:38:25.876886922Z",
     "start_time": "2024-04-28T16:38:25.871831023Z"
    }
   },
   "id": "5d02f7a5aa98e8b1",
   "execution_count": 2
  },
  {
   "cell_type": "code",
   "outputs": [
    {
     "data": {
      "text/plain": "'2\\u2002 \\u2002 Chapter 1 / Basic Concepts and Computer Evolution \\n\\t 1.1\\t Organization and Architecture\\nIn describing computers, a distinction is often made between computer architec-\\nture and computer organization. Although it is difficult to give precise definitions \\nfor these terms, a consensus exists about the general areas covered by each. For \\nexample, see [VRAN80], [SIEW82], and [BELL78a]; an interesting alternative view \\nis presented in [REDD76].\\nComputer architecture refers to those attributes of a system visible to a pro-\\ngrammer or, put another way, those attributes that have a direct impact on the \\nlogical execution of a program. A term that is often used interchangeably with com-\\nputer architecture is instruction set architecture (ISA). The ISA defines instruction \\nformats, instruction opcodes, registers, instruction and data memory; the effect of \\nexecuted instructions on the registers and memory; and an algorithm for control-\\nling instruction execution. Computer organization refers to the operational units \\nand their interconnections that realize the architectural specifications. Examples of \\narchitectural attributes include the instruction set, the number of bits used to repre-\\nsent various data types (e.g., numbers, characters), I/O mechanisms, and techniques \\nfor addressing memory. Organizational attributes include those hardware details \\ntransparent to the programmer, such as control signals; interfaces between the com-\\nputer and peripherals; and the memory technology used.\\nFor example, it is an architectural design issue whether a computer will have \\na multiply instruction. It is an organizational issue whether that instruction will be \\nimplemented by a special multiply unit or by a mechanism that makes repeated \\nuse of the add unit of the system. The organizational decision may be based on the \\nanticipated frequency of use of the multiply instruction, the relative speed of the \\ntwo approaches, and the cost and physical size of a special multiply unit.\\nHistorically, and still today, the distinction between architecture and organ-\\nization has been an important one. Many computer manufacturers offer a family of \\ncomputer models, all with the same architecture but with differences in organization. \\nConsequently, the different models in the family have different price and perform-\\nance characteristics. Furthermore, a particular architecture may span many years \\nand encompass a number of different computer models, its organization changing \\nwith changing technology. A prominent example of both these phenomena is the \\nIBM System/370 architecture. This architecture was first introduced in 1970 and \\nLearning Objectives\\nAfter studying this chapter, you should be able to:\\nr\\nr Explain the general functions and structure of a digital computer.\\nr\\nr Present an overview of the evolution of computer technology from early \\ndigital computers to the latest microprocessors.\\nr\\nr Present an overview of the evolution of the x86 architecture.\\nr\\nr Define embedded systems and list some of the requirements and constraints \\nthat various embedded systems must meet.\\n'"
     },
     "execution_count": 3,
     "metadata": {},
     "output_type": "execute_result"
    }
   ],
   "source": [
    "text"
   ],
   "metadata": {
    "collapsed": false,
    "ExecuteTime": {
     "end_time": "2024-04-28T16:38:26.501742736Z",
     "start_time": "2024-04-28T16:38:26.496085362Z"
    }
   },
   "id": "73b6f3b0d1fcf36b",
   "execution_count": 3
  },
  {
   "cell_type": "code",
   "outputs": [],
   "source": [
    "text = f\"\"\"\n",
    "A computer is a complex system; contemporary computers contain millions of\n",
    "elementary electronic components. How, then, can one clearly describe them? The\n",
    "key is to recognize the hierarchical nature of most complex systems, including the\n",
    "computer [SIMO96]. A hierarchical system is a set of interrelated subsystems, each\n",
    "of the latter, in turn, hierarchical in structure until we reach some lowest level of\n",
    "elementary subsystem.\n",
    "The hierarchical nature of complex systems is essential to both their design\n",
    "and their description. The designer need only deal with a particular level of the\n",
    "system at a time. At each level, the system consists of a set of components and\n",
    "their interrelationships. The behavior at each level depends only on a simplified,\n",
    "abstracted characterization of the system at the next lower level. At each level, the\n",
    "designer is concerned with structure and function:\n",
    "■ ■\n",
    "■ ■\n",
    "Structure: The way in which the components are interrelated.\n",
    "Function: The operation of each individual component as part of the structure.\n",
    "In terms of description, we have two choices: starting at the bottom and build-\n",
    "ing up to a complete description, or beginning with a top view and decomposing the\n",
    "system into its subparts. Evidence from a number of fields suggests that the t ­ op-​\n",
    "down approach is the clearest and most effective [WEIN75].\n",
    "The approach taken in this book follows from this viewpoint. The computer\n",
    "system will be described from the top down. We begin with the major components\n",
    "of a computer, describing their structure and function, and proceed to successively\n",
    "lower layers of the hierarchy. The remainder of this section provides a very brief\n",
    "overview of this plan of attack.\n",
    "Function\n",
    "Both the structure and functioning of a computer are, in essence, simple. In general\n",
    "terms, there are only four basic functions that a computer can perform:\n",
    "■ ■\n",
    "■ ■\n",
    "■ ■\n",
    "■ ■\n",
    "Data processing: Data may take a wide variety of forms, and the range of pro-\n",
    "cessing requirements is broad. However, we shall see that there are only a few\n",
    "fundamental methods or types of data processing.\n",
    "Data storage: Even if the computer is processing data on the fly (i.e., data\n",
    "come in and get processed, and the results go out immediately), the computer\n",
    "must temporarily store at least those pieces of data that are being worked on\n",
    "at any given moment. Thus, there is at least a s ­ hort-​­term data storage function.\n",
    "Equally important, the computer performs a l ­ ong-​­term data storage function.\n",
    "Files of data are stored on the computer for subsequent retrieval and update.\n",
    "Data movement: The computer’s operating environment consists of devices\n",
    "that serve as either sources or destinations of data. When data are received\n",
    "from or delivered to a device that is directly connected to the computer, the\n",
    "process is known as ­input–​­output (I/O), and the device is referred to as a\n",
    "peripheral. When data are moved over longer distances, to or from a remote\n",
    "device, the process is known as data communications.\n",
    "Control: Within the computer, a control unit manages the computer’s\n",
    "resources and orchestrates the performance of its functional parts in response\n",
    "to instructions.\n",
    "The preceding discussion may seem absurdly generalized. It is certainly\n",
    "possible, even at a top level of computer structure, to differentiate a variety of func-\n",
    "tions, but to quote [SIEW82]:\n",
    "There is remarkably little shaping of computer structure to fit the\n",
    "function to be performed. At the root of this lies the ­general-​­purpose\n",
    "nature of computers, in which all the functional specialization occurs\n",
    "at the time of programming and not at the time of design.\n",
    "Structure\n",
    "We now look in a general way at the internal structure of a computer. We begin with\n",
    "a traditional computer with a single processor that employs a microprogrammed\n",
    "control unit, then examine a typical multicore structure.\n",
    "simple s\n",
    "­ ingle -​­ processor computer Figure 1.1 provides a hierarchical view\n",
    "of the internal structure of a traditional s ­ ingle-​­processor computer. There are four\n",
    "main structural components:\n",
    "■ ■\n",
    "■ ■\n",
    "Central processing unit (CPU): Controls the operation of the computer and\n",
    "performs its data processing functions; often simply referred to as processor.\n",
    "Main memory: Stores data.\n",
    "■ ■\n",
    "■ ■\n",
    "I/O: Moves data between the computer and its external environment.\n",
    "System interconnection: Some mechanism that provides for communication\n",
    "among CPU, main memory, and I/O. A common example of system intercon-\n",
    "nection is by means of a system bus, consisting of a number of conducting\n",
    "wires to which all the other components attach.\n",
    "There may be one or more of each of the aforementioned components. Tra-\n",
    "ditionally, there has been just a single processor. In recent years, there has been\n",
    "increasing use of multiple processors in a single computer. Some design issues relat-\n",
    "ing to multiple processors crop up and are discussed as the text proceeds; Part Five\n",
    "focuses on such computers.\n",
    "Each of these components will be examined in some detail in Part Two. How-\n",
    "ever, for our purposes, the most interesting and in some ways the most complex\n",
    "component is the CPU. Its major structural components are as follows:\n",
    "■ ■\n",
    "■ ■\n",
    "■ ■\n",
    "■ ■\n",
    "Control unit: Controls the operation of the CPU and hence the computer.\n",
    "Arithmetic and logic unit (ALU): Performs the computer’s data processing\n",
    "functions.\n",
    "Registers: Provides storage internal to the CPU.\n",
    "CPU interconnection: Some mechanism that provides for communication\n",
    "among the control unit, ALU, and registers.\n",
    "Part Three covers these components, where we will see that complexity is added by\n",
    "the use of parallel and pipelined organizational techniques. Finally, there are sev-\n",
    "eral approaches to the implementation of the control unit; one common approach is\n",
    "a microprogrammed implementation. In essence, a microprogrammed control unit\n",
    "operates by executing microinstructions that define the functionality of the control\n",
    "unit. With this approach, the structure of the control unit can be depicted, as in\n",
    "Figure 1.1. This structure is examined in Part Four.\n",
    "multicore computer structure As was mentioned, contemporary\n",
    "computers generally have multiple processors. When these processors all reside\n",
    "on a single chip, the term multicore computer is used, and each processing unit\n",
    "(consisting of a control unit, ALU, registers, and perhaps cache) is called a core. To\n",
    "clarify the terminology, this text will use the following definitions.\n",
    "■ ■\n",
    "■ ■\n",
    "■ ■\n",
    "Central processing unit (CPU): That portion of a computer that fetches and\n",
    "executes instructions. It consists of an ALU, a control unit, and registers.\n",
    "In a system with a single processing unit, it is often simply referred to as a\n",
    "processor.\n",
    "Core: An individual processing unit on a processor chip. A core may be equiv-\n",
    "alent in functionality to a CPU on a ­single-​­CPU system. Other specialized pro-\n",
    "cessing units, such as one optimized for vector and matrix operations, are also\n",
    "referred to as cores.\n",
    "Processor: A physical piece of silicon containing one or more cores. The\n",
    "processor is the computer component that interprets and executes instruc-\n",
    "tions. If a processor contains multiple cores, it is referred to as a multicore\n",
    "processor.\n",
    "After about a decade of discussion, there is broad industry consensus on this usage.\n",
    "Another prominent feature of contemporary computers is the use of multiple\n",
    "layers of memory, called cache memory, between the processor and main memory.\n",
    "Chapter 4 is devoted to the topic of cache memory. For our purposes in this section,\n",
    "we simply note that a cache memory is smaller and faster than main memory and is\n",
    "used to speed up memory access, by placing in the cache data from main memory,\n",
    "that is likely to be used in the near future. A greater performance improvement may\n",
    "be obtained by using multiple levels of cache, with level 1 (L1) closest to the core\n",
    "and additional levels (L2, L3, and so on) progressively farther from the core. In this\n",
    "scheme, level n is smaller and faster than level n + 1.\n",
    "Figure 1.2 is a simplified view of the principal components of a typical mul-\n",
    "ticore computer. Most computers, including embedded computers in smartphones\n",
    "and tablets, plus personal computers, laptops, and workstations, are housed on a\n",
    "motherboard. Before describing this arrangement, we need to define some terms.\n",
    "A printed circuit board (PCB) is a rigid, flat board that holds and interconnects\n",
    "chips and other electronic components. The board is made of layers, typically two\n",
    "to ten, that interconnect components via copper pathways that are etched into\n",
    "the board. The main printed circuit board in a computer is called a system board\n",
    "or motherboard, while smaller ones that plug into the slots in the main board are\n",
    "called expansion boards.\n",
    "The most prominent elements on the motherboard are the chips. A chip is\n",
    "a single piece of semiconducting material, typically silicon, upon which electronic\n",
    "circuits and logic gates are fabricated. The resulting product is referred to as an\n",
    "integrated circuit.\n",
    "The motherboard contains a slot or socket for the processor chip, which typ-\n",
    "ically contains multiple individual cores, in what is known as a multicore processor.\n",
    "There are also slots for memory chips, I/O controller chips, and other key computer\n",
    "components. For desktop computers, expansion slots enable the inclusion of more\n",
    "components on expansion boards. Thus, a modern motherboard connects only a\n",
    "few individual chip components, with each chip containing from a few thousand up\n",
    "to hundreds of millions of transistors.\n",
    "Figure 1.2 shows a processor chip that contains eight cores and an L3 cache.\n",
    "Not shown is the logic required to control operations between the cores and the\n",
    "cache and between the cores and the external circuitry on the motherboard. The\n",
    "figure indicates that the L3 cache occupies two distinct portions of the chip surface.\n",
    "However, typically, all cores have access to the entire L3 cache via the aforemen-\n",
    "tioned control circuits. The processor chip shown in Figure 1.2 does not represent\n",
    "any specific product, but provides a general idea of how such chips are laid out.\n",
    "Next, we zoom in on the structure of a single core, which occupies a portion of\n",
    "the processor chip. In general terms, the functional elements of a core are:\n",
    "■ ■\n",
    "■ ■\n",
    "■ ■\n",
    "Instruction logic: This includes the tasks involved in fetching instructions,\n",
    "and decoding each instruction to determine the instruction operation and the\n",
    "memory locations of any operands.\n",
    "Arithmetic and logic unit (ALU): Performs the operation specified by an\n",
    "instruction.\n",
    "Load/store logic: Manages the transfer of data to and from main memory via\n",
    "cache.\n",
    "The core also contains an L1 cache, split between an instruction cache\n",
    "(­I-​­cache) that is used for the transfer of instructions to and from main memory, and\n",
    "an L1 data cache, for the transfer of operands and results. Typically, today’s pro-\n",
    "cessor chips also include an L2 cache as part of the core. In many cases, this cache\n",
    "is also split between instruction and data caches, although a combined, single L2\n",
    "cache is also used.\n",
    "Keep in mind that this representation of the layout of the core is only intended\n",
    "to give a general idea of internal core structure. In a given product, the functional\n",
    "elements may not be laid out as the three distinct elements shown in Figure 1.2,\n",
    "especially if some or all of these functions are implemented as part of a micropro-\n",
    "grammed control unit.\n",
    "examples It will be instructive to look at some r ­ eal-​­\n",
    "world examples that\n",
    "illustrate the hierarchical structure of computers. Figure 1.3 is a photograph of the\n",
    "motherboard for a computer built around two Intel ­Quad-​­Core Xeon processor\n",
    "chips. Many of the elements labeled on the photograph are discussed subsequently\n",
    "in this book. Here, we mention the most important, in addition to the processor\n",
    "sockets:\n",
    "■ ■\n",
    "■ ■\n",
    "■ ■\n",
    "­ CI-​­Express slots for a ­high-​­end display adapter and for additional peripher-\n",
    "P\n",
    "als (Section 3.6 describes PCIe).\n",
    "Ethernet controller and Ethernet ports for network connections.\n",
    "USB sockets for peripheral devices.\n",
    "■ ■\n",
    "■ ■\n",
    "■ ■\n",
    "Serial ATA (SATA) sockets for connection to disk memory (Section 7.7\n",
    "discusses Ethernet, USB, and SATA).\n",
    "Interfaces for DDR (double data rate) main memory chips (Section 5.3\n",
    "discusses DDR).\n",
    "Intel 3420 chipset is an I/O controller for direct memory access operations\n",
    "between peripheral devices and main memory (Section 7.5 discusses DDR).\n",
    "Following our ­top-​­down strategy, as illustrated in Figures 1.1 and 1.2, we can\n",
    "now zoom in and look at the internal structure of a processor chip. For variety, we\n",
    "look at an IBM chip instead of the Intel processor chip. Figure 1.4 is a photograph\n",
    "of the processor chip for the IBM zEnterprise EC12 mainframe computer. This chip\n",
    "has 2.75 billion transistors. The superimposed labels indicate how the silicon real\n",
    "estate of the chip is allocated. We see that this chip has six cores, or processors.\n",
    "In addition, there are two large areas labeled L3 cache, which are shared by all six\n",
    "processors. The L3 control logic controls traffic between the L3 cache and the cores\n",
    "and between the L3 cache and the external environment. Additionally, there is stor-\n",
    "age control (SC) logic between the cores and the L3 cache. The memory controller\n",
    "(MC) function controls access to memory external to the chip. The GX I/O bus\n",
    "controls the interface to the channel adapters ­accessing the I/O.\n",
    "Going down one level deeper, we examine the internal structure of a single\n",
    "core, as shown in the photograph of Figure 1.5. Keep in mind that this is a portion\n",
    "of the silicon surface area making up a ­single-​­processor chip. The main ­sub-​­areas\n",
    "within this core area are the following:\n",
    "■ ■\n",
    "■ ■\n",
    "ISU (instruction sequence unit): Determines the sequence in which instructions\n",
    "are executed in what is referred to as a superscalar architecture (Chapter 16).\n",
    "IFU (instruction fetch unit): Logic for fetching instructions.\n",
    "■\n",
    "■ ■\n",
    "■ ■\n",
    "■ ■\n",
    "■ ■\n",
    "■ ■\n",
    "■ ■\n",
    "1\n",
    "IDU (instruction decode unit): The IDU is fed from the IFU buffers, and is\n",
    "responsible for the parsing and decoding of all z/Architecture operation codes.\n",
    "LSU (­load-​­store unit): The LSU contains the 96-kB L1 data cache, 1 and man-\n",
    "ages data traffic between the L2 data cache and the functional execution\n",
    "units. It is responsible for handling all types of operand accesses of all lengths,\n",
    "modes, and formats as defined in the z/Architecture.\n",
    "XU (translation unit): This unit translates logical addresses from instructions\n",
    "into physical addresses in main memory. The XU also contains a translation\n",
    "lookaside buffer (TLB) used to speed up memory access. TLBs are discussed\n",
    "in Chapter 8.\n",
    "FXU (­fixed-​­point unit): The FXU executes ­fixed-​­point arithmetic operations.\n",
    "BFU (binary ­floating-​­point unit): The BFU handles all binary and hexadeci-\n",
    "mal ­floating-​­point operations, as well as ­fixed-​­point multiplication operations.\n",
    "DFU (decimal ­floating-​­point unit): The DFU handles both ­fixed-​­point and\n",
    "floating-​­point operations on numbers that are stored as decimal digits.\n",
    "RU (recovery unit): The RU keeps a copy of the complete state of the sys-\n",
    "tem that includes all registers, collects hardware fault signals, and manages the\n",
    "hardware recovery actions.\n",
    "COP (dedicated ­co-​­processor): The COP is responsible for data compression\n",
    "and encryption functions for each core.\n",
    "­I-​­cache: This is a 64-kB L1 instruction cache, allowing the IFU to prefetch\n",
    "instructions before they are needed.\n",
    "L2 control: This is the control logic that manages the traffic through the two\n",
    "L2 caches.\n",
    "Data-​­L2: A 1-MB L2 data cache for all memory traffic other than instructions.\n",
    "Instr-​­L2: A 1-MB L2 instruction cache.\n",
    "As we progress through the book, the concepts introduced in this section will\n",
    "become clearer.\n",
    "\"\"\""
   ],
   "metadata": {
    "collapsed": false,
    "ExecuteTime": {
     "end_time": "2024-04-28T16:51:22.938596655Z",
     "start_time": "2024-04-28T16:51:22.897138998Z"
    }
   },
   "id": "42f8824f15a35c9c",
   "execution_count": 9
  },
  {
   "cell_type": "code",
   "outputs": [
    {
     "name": "stderr",
     "output_type": "stream",
     "text": [
      "All PyTorch model weights were used when initializing TFBartForConditionalGeneration.\n",
      "\n",
      "All the weights of TFBartForConditionalGeneration were initialized from the PyTorch model.\n",
      "If your task is similar to the task the model of the checkpoint was trained on, you can already use TFBartForConditionalGeneration for predictions without further training.\n"
     ]
    }
   ],
   "source": [
    "summarized_text = summarize_text(text)"
   ],
   "metadata": {
    "collapsed": false,
    "ExecuteTime": {
     "end_time": "2024-04-28T16:57:01.945914680Z",
     "start_time": "2024-04-28T16:51:23.933939344Z"
    }
   },
   "id": "3b8f0d55539ae869",
   "execution_count": 10
  },
  {
   "cell_type": "code",
   "outputs": [
    {
     "data": {
      "text/plain": "\"A computer is a complex system; contemporary computers contain millions of electronic components. A hierarchical system is a set of interrelated subsystems, each hierarchical in structure until we reach some lowest level of subsystems. A computer’s operating environment consists of devices that serve as either sources or destinations of data. Data storage is stored on the computer for subsequent retrieval and update. Within the computer, a control unit manages the computer's resources and orchestrates the performance of its functional parts in response to instructions. A traditional computer with a single processor that employs a microprogrammed. unit, then examine a typical multicore structure of a. traditional computer. A typical computer with two or three processors that employ a. multicore system, then look at the internal structure of. a. processor that uses two or more processors. A. computer with four processors that use five or six processors, and so on, and a. computer that uses six or seven processors, that uses seven or eight processors. The computer with the most processors, such as the Intel Core i7, can run at speeds of up to 1.5 to 2.5 gigahertz (GHz) A. processor with the same or less power as the one in this book can run for as little as 1 hour and 20 minutes. A processor with more than 1.2 hours of power can last for up to 24 hours. A single processor with a maximum of 1.6 hours of battery life can last up to two days. A system with a lot of power, like the Apple II, can last longer than two hours and a half. A high-performance computer can last more than three hours and even longer. A low-powered computer can take up to four hours to run. A machine with a low-power, low-cost processor can last a few hours and up to five hours. An inexpensive computer can run all day and into the night. A small computer can do it in a matter of hours, but it's not cheap. A large computer can't do it for a long time. It's not possible to do it all at once.\""
     },
     "execution_count": 11,
     "metadata": {},
     "output_type": "execute_result"
    }
   ],
   "source": [
    "summarized_text"
   ],
   "metadata": {
    "collapsed": false,
    "ExecuteTime": {
     "end_time": "2024-04-28T16:57:01.947117450Z",
     "start_time": "2024-04-28T16:57:01.945796070Z"
    }
   },
   "id": "cd896cde557731c3",
   "execution_count": 11
  },
  {
   "cell_type": "code",
   "outputs": [],
   "source": [],
   "metadata": {
    "collapsed": false
   },
   "id": "321547538f02e92f"
  }
 ],
 "metadata": {
  "kernelspec": {
   "display_name": "Python 3",
   "language": "python",
   "name": "python3"
  },
  "language_info": {
   "codemirror_mode": {
    "name": "ipython",
    "version": 2
   },
   "file_extension": ".py",
   "mimetype": "text/x-python",
   "name": "python",
   "nbconvert_exporter": "python",
   "pygments_lexer": "ipython2",
   "version": "2.7.6"
  }
 },
 "nbformat": 4,
 "nbformat_minor": 5
}
